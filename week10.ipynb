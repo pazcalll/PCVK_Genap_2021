{
  "nbformat": 4,
  "nbformat_minor": 0,
  "metadata": {
    "colab": {
      "name": "week10.ipynb",
      "provenance": [],
      "collapsed_sections": [],
      "authorship_tag": "ABX9TyOQZzJB3fWrWB6lXmkCQtaw",
      "include_colab_link": true
    },
    "kernelspec": {
      "name": "python3",
      "display_name": "Python 3"
    },
    "language_info": {
      "name": "python"
    }
  },
  "cells": [
    {
      "cell_type": "markdown",
      "metadata": {
        "id": "view-in-github",
        "colab_type": "text"
      },
      "source": [
        "<a href=\"https://colab.research.google.com/github/pazcalll/PCVK_Genap_2021/blob/main/week10.ipynb\" target=\"_parent\"><img src=\"https://colab.research.google.com/assets/colab-badge.svg\" alt=\"Open In Colab\"/></a>"
      ]
    },
    {
      "cell_type": "code",
      "metadata": {
        "colab": {
          "base_uri": "https://localhost:8080/"
        },
        "id": "8RxXTTt0T_rU",
        "outputId": "e8593038-c78f-4f84-cc30-e87598f09054"
      },
      "source": [
        "from google.colab import drive\n",
        "drive.mount('/content/drive')"
      ],
      "execution_count": 2,
      "outputs": [
        {
          "output_type": "stream",
          "text": [
            "Mounted at /content/drive\n"
          ],
          "name": "stdout"
        }
      ]
    },
    {
      "cell_type": "code",
      "metadata": {
        "id": "O6oRDaH3UPEu"
      },
      "source": [
        "import cv2 as cv\n",
        "import numpy as np\n",
        "from matplotlib import pyplot as plt\n",
        "from google.colab.patches import cv2_imshow"
      ],
      "execution_count": 10,
      "outputs": []
    },
    {
      "cell_type": "code",
      "metadata": {
        "colab": {
          "base_uri": "https://localhost:8080/",
          "height": 322
        },
        "id": "vfnxbuyLU3cm",
        "outputId": "8e498be3-3084-4f80-e098-e1328cf3349f"
      },
      "source": [
        "filename = ('/content/drive/MyDrive/PCVK/Images/gradient.jpg')\n",
        "img = cv.imread(filename)\n",
        "thresh = 127 #nilai Threshold yang ditentukan\n",
        "#1. thresh1 jika pixel di img>127, maka thresh1 bernilai 1(putih) selain itu bernilai 0(hitam)\n",
        "ret,thresh1 = cv.threshold(img,thresh,255,cv.THRESH_BINARY)\n",
        "#2. thresh2 adalah binary threshold inverse\n",
        "ret,thresh2 = cv.threshold(img,thresh,255,cv.THRESH_BINARY_INV)\n",
        "#3. Threshold Truncate\n",
        "ret,thresh3 = cv.threshold(img,thresh,255,cv.THRESH_TRUNC)\n",
        "#4. Threshold Tozero\n",
        "ret,thresh4 = cv.threshold(img,thresh,255,cv.THRESH_TOZERO)\n",
        "#5. Threshold Tozero Inverse\n",
        "ret,thresh5 = cv.threshold(img,thresh,255,cv.THRESH_TOZERO_INV)\n",
        "titles = ['Original Image','BINARY','BINARY_INV','TRUNC', 'TOZERO', 'TOZERO_INV']\n",
        "images = [img, thresh1, thresh2, thresh3, thresh4, thresh5]\n",
        "plt.figure(figsize = (15,5))\n",
        "for i in range(len(images)):\n",
        " plt.subplot(2,3,i+1), plt.imshow(images[i], cmap='gray', interpolation='nearest')\n",
        " plt.title(titles[i])\n",
        " plt.xticks([]),plt.yticks([])\n",
        "plt.show()"
      ],
      "execution_count": 18,
      "outputs": [
        {
          "output_type": "display_data",
          "data": {
            "image/png": "[encoded data removed]",
            "text/plain": [
              "<Figure size 1080x360 with 6 Axes>"
            ]
          },
          "metadata": {
            "tags": []
          }
        }
      ]
    },
    {
      "cell_type": "code",
      "metadata": {
        "id": "bHUv62ETaaAn"
      },
      "source": [
        ""
      ],
      "execution_count": null,
      "outputs": []
    }
  ]
}