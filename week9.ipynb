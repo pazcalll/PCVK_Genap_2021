{
  "nbformat": 4,
  "nbformat_minor": 0,
  "metadata": {
    "colab": {
      "name": "week9.ipynb",
      "provenance": [],
      "authorship_tag": "ABX9TyNC//PXXGiii1Gj9oLebtwx",
      "include_colab_link": true
    },
    "kernelspec": {
      "name": "python3",
      "display_name": "Python 3"
    },
    "language_info": {
      "name": "python"
    }
  },
  "cells": [
    {
      "cell_type": "markdown",
      "metadata": {
        "id": "view-in-github",
        "colab_type": "text"
      },
      "source": [
        "<a href=\"https://colab.research.google.com/github/pazcalll/PCVK_Genap_2021/blob/main/week9.ipynb\" target=\"_parent\"><img src=\"https://colab.research.google.com/assets/colab-badge.svg\" alt=\"Open In Colab\"/></a>"
      ]
    },
    {
      "cell_type": "code",
      "metadata": {
        "colab": {
          "base_uri": "https://localhost:8080/"
        },
        "id": "YX-GrS31J59P",
        "outputId": "61d3286b-d07d-4ce7-ccf5-9e9ed313f966"
      },
      "source": [
        "from google.colab import drive\n",
        "drive.mount('/content/drive')\n"
      ],
      "execution_count": 3,
      "outputs": [
        {
          "output_type": "stream",
          "text": [
            "Drive already mounted at /content/drive; to attempt to forcibly remount, call drive.mount(\"/content/drive\", force_remount=True).\n"
          ],
          "name": "stdout"
        }
      ]
    },
    {
      "cell_type": "code",
      "metadata": {
        "id": "vj6-aqe_M4UG"
      },
      "source": [
        "import cv2\n",
        "import numpy as np\n",
        "from matplotlib import pyplot as plt"
      ],
      "execution_count": 13,
      "outputs": []
    },
    {
      "cell_type": "code",
      "metadata": {
        "id": "hQwHEEAMX3Fg"
      },
      "source": [
        "img = cv2.imread('/content/drive/MyDrive/PCVK/Images/j.png',0)\n",
        "ret, thresh = cv2.threshold(img, 127, 225, cv2.THRESH_BINARY)\n",
        "kernel = np.ones((5,5),np.uint8)\n",
        "dilasi = cv2.dilate(thresh,kernel,iterations = 1)\n",
        " "
      ],
      "execution_count": 61,
      "outputs": []
    },
    {
      "cell_type": "code",
      "metadata": {
        "colab": {
          "base_uri": "https://localhost:8080/",
          "height": 182
        },
        "id": "pRmAuTpKbha0",
        "outputId": "72c7d187-58a0-4146-e214-88e011011ae0"
      },
      "source": [
        "# number 5\n",
        "plt.subplot(131),plt.imshow(img,cmap = 'gray')\n",
        "plt.title('Citra Awal'), plt.xticks([]), plt.yticks([])\n",
        "plt.subplot(132),plt.imshow(thresh,cmap = 'gray')\n",
        "plt.title('Citra Biner'), plt.xticks([]), plt.yticks([])\n",
        "plt.subplot(133),plt.imshow(dilasi,cmap = 'gray')\n",
        "plt.title('Hasil Dilasi'), plt.xticks([]), plt.yticks([])\n",
        "plt.show()"
      ],
      "execution_count": 44,
      "outputs": [
        {
          "output_type": "display_data",
          "data": {
            "image/png": "[encoded data removed]",
            "text/plain": [
              "<Figure size 432x288 with 3 Axes>"
            ]
          },
          "metadata": {
            "tags": []
          }
        }
      ]
    },
    {
      "cell_type": "code",
      "metadata": {
        "colab": {
          "base_uri": "https://localhost:8080/",
          "height": 252
        },
        "id": "OIo0ZtqZhho_",
        "outputId": "389605fb-97da-4309-e743-f5ebb8268c62"
      },
      "source": [
        "# number 4\n",
        "from scipy import ndimage\n",
        "from skimage.morphology import disk, dilation\n",
        "\n",
        "im2 = img\n",
        "struct1 = disk(1)\n",
        "im2 = dilation(im2, selem=kernel)\n",
        "plt.imshow(im2, cmap='gray')\n",
        "plt.xticks([]), plt.yticks([])\n",
        "plt.show()"
      ],
      "execution_count": 65,
      "outputs": [
        {
          "output_type": "display_data",
          "data": {
            "image/png": "[encoded data removed]",
            "text/plain": [
              "<Figure size 432x288 with 1 Axes>"
            ]
          },
          "metadata": {
            "tags": []
          }
        }
      ]
    },
    {
      "cell_type": "code",
      "metadata": {
        "colab": {
          "base_uri": "https://localhost:8080/",
          "height": 182
        },
        "id": "S_wbnQhdxJwW",
        "outputId": "66c1d8af-6dda-4a2f-b803-9af2b8d9db50"
      },
      "source": [
        "#number 6\n",
        "erosi = cv2.erode(thresh,kernel,iterations = 1)\n",
        "plt.subplot(131),plt.imshow(erosi,cmap = 'gray')\n",
        "plt.title('Hasil Erosi'), plt.xticks([]), plt.yticks([])\n",
        "\n",
        "plt.subplot(132),plt.imshow(img,cmap = 'gray')\n",
        "plt.title('Gambar Real'), plt.xticks([]), plt.yticks([])\n",
        "plt.show()"
      ],
      "execution_count": 62,
      "outputs": [
        {
          "output_type": "display_data",
          "data": {
            "image/png": "[encoded data removed]",
            "text/plain": [
              "<Figure size 432x288 with 2 Axes>"
            ]
          },
          "metadata": {
            "tags": []
          }
        }
      ]
    },
    {
      "cell_type": "code",
      "metadata": {
        "id": "xuNxQ3NIzWy1"
      },
      "source": [
        "kernel = np.ones((7,7),np.uint8)\n",
        "erosi = cv2.morphologyEx(thresh,cv2.MORPH_OPEN, kernel)\n",
        " \n",
        "plt.subplot(131),plt.imshow(img,cmap = 'gray')\n",
        "plt.title('Citra Awal'), plt.xticks([]), plt.yticks([])\n",
        "plt.subplot(132),plt.imshow(thresh,cmap = 'gray')\n",
        "plt.title('Citra Biner'), plt.xticks([]), plt.yticks([])\n",
        "plt.subplot(133),plt.imshow(erosi,cmap = 'gray')\n",
        "plt.title('Hasil Dilasi'), plt.xticks([]), plt.yticks([])\n",
        " \n",
        "plt.show()"
      ],
      "execution_count": null,
      "outputs": []
    }
  ]
}